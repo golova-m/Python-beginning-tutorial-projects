{
  "nbformat": 4,
  "nbformat_minor": 0,
  "metadata": {
    "colab": {
      "provenance": [],
      "authorship_tag": "ABX9TyNIZSSkvIQ6NA2+Ru4XTu3E",
      "include_colab_link": true
    },
    "kernelspec": {
      "name": "python3",
      "display_name": "Python 3"
    },
    "language_info": {
      "name": "python"
    }
  },
  "cells": [
    {
      "cell_type": "markdown",
      "metadata": {
        "id": "view-in-github",
        "colab_type": "text"
      },
      "source": [
        "<a href=\"https://colab.research.google.com/github/golova-m/Python-beginning-tutorial-projects/blob/small_interview_tasks/small_interview_tasks.ipynb\" target=\"_parent\"><img src=\"https://colab.research.google.com/assets/colab-badge.svg\" alt=\"Open In Colab\"/></a>"
      ]
    },
    {
      "cell_type": "markdown",
      "source": [
        "Задачи, которые дают на собеседованиях отличаются сильно друг от друга и зависят от компании."
      ],
      "metadata": {
        "id": "QagOQu1S_Jbu"
      }
    },
    {
      "cell_type": "markdown",
      "source": [
        "# Блок 1\n",
        "\n",
        "В этом блоке будет разбор задач с сайта [pythonist](https://pythonist.ru/python-voprosy-sobesedovaniya-chast-i-junior/#qst)."
      ],
      "metadata": {
        "id": "R6MEOsWbB4vm"
      }
    },
    {
      "cell_type": "code",
      "source": [
        "'''\n",
        "1.1 Как преобразовать строку, содержащую бинарный код (0 или 1),\n",
        "в число (целого типа)? Напишите программу, которая будет это делать.\n",
        "'''\n",
        "binary_str = bin(56)\n",
        "print(type(binary_str))\n",
        "binary_int = int(binary_str, 2)\n",
        "print(type(binary_int))"
      ],
      "metadata": {
        "id": "K9VdasX8CHhV",
        "outputId": "fa5c2cf6-bcd9-487a-ba22-dafa14713b4e",
        "colab": {
          "base_uri": "https://localhost:8080/"
        }
      },
      "execution_count": null,
      "outputs": [
        {
          "output_type": "stream",
          "name": "stdout",
          "text": [
            "<class 'str'>\n",
            "<class 'int'>\n"
          ]
        }
      ]
    },
    {
      "cell_type": "markdown",
      "source": [
        "Предыдущий код мы можем сократить, убрав принты и проверку на типы, а также в одной строке записать преобразования."
      ],
      "metadata": {
        "id": "jxKZDmBEHzG9"
      }
    },
    {
      "cell_type": "code",
      "source": [
        "int(bin(56), 2)"
      ],
      "metadata": {
        "id": "sVnDpAilD1ZE",
        "outputId": "1699cf2a-927f-4423-94f8-d6382ad3b2f2",
        "colab": {
          "base_uri": "https://localhost:8080/"
        }
      },
      "execution_count": null,
      "outputs": [
        {
          "output_type": "execute_result",
          "data": {
            "text/plain": [
              "56"
            ]
          },
          "metadata": {},
          "execution_count": 17
        }
      ]
    },
    {
      "cell_type": "code",
      "source": [
        "'''\n",
        "1.2 Как проверить, что кортеж A содержит в себе все элементы кортежа B?\n",
        "Напишите программу, которая это будет выполнять.\n",
        "'''\n",
        "tuple_a = (1, 2, 3, 4, 5)\n",
        "tuple_b = (3, 4, 5)\n",
        "\n",
        "set(tuple_b).issubset(set(tuple_a))"
      ],
      "metadata": {
        "id": "ugUHPI0sIrMl",
        "outputId": "9aed8740-505f-4799-cfd4-d55dd3a2ff51",
        "colab": {
          "base_uri": "https://localhost:8080/"
        }
      },
      "execution_count": null,
      "outputs": [
        {
          "output_type": "execute_result",
          "data": {
            "text/plain": [
              "True"
            ]
          },
          "metadata": {},
          "execution_count": 21
        }
      ]
    },
    {
      "cell_type": "code",
      "source": [
        "'''\n",
        "1.3 Какой будет результат выполнения следующего кода:\n",
        "'''\n",
        "\n",
        "def f():\n",
        "  x = 15\n",
        "  print(x)\n",
        "x = 12\n",
        "f()"
      ],
      "metadata": {
        "id": "lcW7K6j7MluQ",
        "outputId": "f65c147d-41f7-4fe7-81cf-209c3c8e5d67",
        "colab": {
          "base_uri": "https://localhost:8080/"
        }
      },
      "execution_count": null,
      "outputs": [
        {
          "output_type": "stream",
          "name": "stdout",
          "text": [
            "15\n"
          ]
        }
      ]
    },
    {
      "cell_type": "code",
      "source": [
        "'''\n",
        "1.4 Как преобразовать строку в число, состоящее из ASCII-кодов? Напишите программу для этой операции.\n",
        "'''\n",
        "s = 'gfthd'\n",
        "[ord(c) for c in s]"
      ],
      "metadata": {
        "id": "f78mC2N4Mzr8",
        "outputId": "a607cc05-5052-477c-b070-d0045d132c63",
        "colab": {
          "base_uri": "https://localhost:8080/"
        }
      },
      "execution_count": null,
      "outputs": [
        {
          "output_type": "execute_result",
          "data": {
            "text/plain": [
              "[103, 102, 116, 104, 100]"
            ]
          },
          "metadata": {},
          "execution_count": 24
        }
      ]
    },
    {
      "cell_type": "code",
      "source": [
        "'''\n",
        "1.5 Как удалить пустые строки (длиной 0) из списка строк? Напишите программу для этого.\n",
        "'''\n",
        "list_str = ['', '2', '', 'a', 'rt', ' ']\n",
        "for i in list_str:\n",
        "  if i == '':\n",
        "    list_str.remove(i)\n",
        "print(list_str)"
      ],
      "metadata": {
        "id": "ECW7MIjfOcft",
        "outputId": "d7cc3824-4035-4023-d7de-1a14e5feaae0",
        "colab": {
          "base_uri": "https://localhost:8080/"
        }
      },
      "execution_count": null,
      "outputs": [
        {
          "output_type": "stream",
          "name": "stdout",
          "text": [
            "['2', 'a', 'rt', ' ']\n"
          ]
        }
      ]
    },
    {
      "cell_type": "code",
      "source": [
        "list_str = ['', '2', '', 'a', 'rt', ' ']\n",
        "list_str = list(filter(None, list_str))\n",
        "print(list_str)"
      ],
      "metadata": {
        "id": "_GmOQpTJPnJc",
        "outputId": "58ff6b47-cd43-4222-c465-d7f030463961",
        "colab": {
          "base_uri": "https://localhost:8080/"
        }
      },
      "execution_count": null,
      "outputs": [
        {
          "output_type": "stream",
          "name": "stdout",
          "text": [
            "['2', 'a', 'rt', ' ']\n"
          ]
        }
      ]
    },
    {
      "cell_type": "code",
      "source": [
        "list_str = ['', '2', '', 'a', 'rt', ' ']\n",
        "[x for x in list_str if x]"
      ],
      "metadata": {
        "id": "Bek51ij8Qp2y",
        "outputId": "6e99b731-1992-4987-bdd8-cd592cd76f7a",
        "colab": {
          "base_uri": "https://localhost:8080/"
        }
      },
      "execution_count": null,
      "outputs": [
        {
          "output_type": "execute_result",
          "data": {
            "text/plain": [
              "['2', 'a', 'rt', ' ']"
            ]
          },
          "metadata": {},
          "execution_count": 33
        }
      ]
    },
    {
      "cell_type": "code",
      "source": [
        "'''\n",
        "1.6 Создайте строку из чисел от 0 до 100 следующего вида: \"0123456789101112...\"\n",
        "'''\n",
        "str_number = ''\n",
        "for x in range(101):\n",
        "  str_number += str(x)\n",
        "print(str_number)"
      ],
      "metadata": {
        "id": "uVR76QTsQ3xJ",
        "outputId": "8668458f-83d6-425f-c9de-4d8ad5c5fd3d",
        "colab": {
          "base_uri": "https://localhost:8080/"
        }
      },
      "execution_count": null,
      "outputs": [
        {
          "output_type": "stream",
          "name": "stdout",
          "text": [
            "0123456789101112131415161718192021222324252627282930313233343536373839404142434445464748495051525354555657585960616263646566676869707172737475767778798081828384858687888990919293949596979899100\n"
          ]
        }
      ]
    },
    {
      "cell_type": "code",
      "source": [
        "str_number = ''.join([str(i) for i in range(101)])\n",
        "print(str_number)"
      ],
      "metadata": {
        "id": "tiHiHrdrTmKR",
        "outputId": "46ec9898-8ae0-4dd4-844a-1074f7fa150a",
        "colab": {
          "base_uri": "https://localhost:8080/"
        }
      },
      "execution_count": null,
      "outputs": [
        {
          "output_type": "stream",
          "name": "stdout",
          "text": [
            "0123456789101112131415161718192021222324252627282930313233343536373839404142434445464748495051525354555657585960616263646566676869707172737475767778798081828384858687888990919293949596979899100\n"
          ]
        }
      ]
    },
    {
      "cell_type": "code",
      "source": [
        "print(*range(101), sep='')"
      ],
      "metadata": {
        "id": "CRIXQtFwSU0B",
        "outputId": "4f5ee453-15fa-4acd-9091-12ba80b4fa43",
        "colab": {
          "base_uri": "https://localhost:8080/"
        }
      },
      "execution_count": null,
      "outputs": [
        {
          "output_type": "stream",
          "name": "stdout",
          "text": [
            "0123456789101112131415161718192021222324252627282930313233343536373839404142434445464748495051525354555657585960616263646566676869707172737475767778798081828384858687888990919293949596979899100\n"
          ]
        }
      ]
    },
    {
      "cell_type": "code",
      "source": [
        "'''\n",
        "1.7 Преобразуйте список, где есть повторяющиеся элементы, в список, где все элементы уникальны.\n",
        "'''\n",
        "list_numbers = [-60, -60, -2, 0, 2, -2, 6]\n",
        "list_numbers = list(set(list_numbers))\n",
        "print(list_numbers)"
      ],
      "metadata": {
        "id": "ccBVkC27T7r7",
        "outputId": "e7a9b095-a532-4d7a-98c1-eaa9ed396c19",
        "colab": {
          "base_uri": "https://localhost:8080/"
        }
      },
      "execution_count": null,
      "outputs": [
        {
          "output_type": "stream",
          "name": "stdout",
          "text": [
            "[0, 2, -60, 6, -2]\n"
          ]
        }
      ]
    },
    {
      "cell_type": "code",
      "source": [
        "\n",
        "list_numbers = [-60, -60, -2, 0, 2, -2, 6]\n",
        "list_numbers = list(dict.fromkeys(list_numbers))\n",
        "print(list_numbers)"
      ],
      "metadata": {
        "id": "k0efLb7QYPAW",
        "outputId": "09a98939-0e9b-4097-bcf1-b05600bdfad8",
        "colab": {
          "base_uri": "https://localhost:8080/"
        }
      },
      "execution_count": null,
      "outputs": [
        {
          "output_type": "stream",
          "name": "stdout",
          "text": [
            "[-60, -2, 0, 2, 6]\n"
          ]
        }
      ]
    },
    {
      "cell_type": "code",
      "source": [
        "'''\n",
        "1.8 Создайте список всех простых чисел, лежащих в диапазоне от 0 до 100.\n",
        "'''\n",
        "for i in range(2, 100):\n",
        "  simple = True\n",
        "  for j in range(2, i):\n",
        "    if i%j == 0:\n",
        "      simple = False\n",
        "      break\n",
        "  if simple :\n",
        "    print(i)"
      ],
      "metadata": {
        "id": "450z7QeGa3iN",
        "outputId": "f167f894-5b72-4043-f9b5-24d8fdbd71e5",
        "colab": {
          "base_uri": "https://localhost:8080/"
        }
      },
      "execution_count": null,
      "outputs": [
        {
          "output_type": "stream",
          "name": "stdout",
          "text": [
            "2\n",
            "3\n",
            "5\n",
            "7\n",
            "11\n",
            "13\n",
            "17\n",
            "19\n",
            "23\n",
            "29\n",
            "31\n",
            "37\n",
            "41\n",
            "43\n",
            "47\n",
            "53\n",
            "59\n",
            "61\n",
            "67\n",
            "71\n",
            "73\n",
            "79\n",
            "83\n",
            "89\n",
            "97\n"
          ]
        }
      ]
    },
    {
      "cell_type": "markdown",
      "source": [
        "# Блок 2\n",
        "\n",
        "В данном блоке будут рассмотрены задачи с сайта [5 задач с собеседований Amazon для Python-разработчиков](https://tproger.ru/articles/5-zadach-s-sobesedovanij-ibm-dlya-python-razrabotchikov)"
      ],
      "metadata": {
        "id": "ypmIi9yiwOra"
      }
    },
    {
      "cell_type": "code",
      "source": [
        "'''\n",
        "2.1 Изменить порядок слов\n",
        "Вам дана строка ‘s’ с некоторым количеством слов N.\n",
        "Нужно сделать так, чтобы исходный порядок слов в строке изменился на обратный.\n",
        "\n",
        "При этом в исходной строке между словами может быть множество пробелов,\n",
        "но в результате работы скрипта мы должны получить предложение с одним пробелом между словами,\n",
        "без пробелов в начале предложения и после его конца.\n",
        "'''\n",
        "\n",
        "input_str = input().split(' ')\n",
        "new_str = ''\n",
        "for i in range(1, len(input_str) + 1):\n",
        "  if '' != input_str[-i]:\n",
        "    new_str = f'{new_str}{input_str[-i]} '\n",
        "new_str = new_str[:-1]\n",
        "print(new_str)"
      ],
      "metadata": {
        "id": "pBwWFuMqwa44",
        "colab": {
          "base_uri": "https://localhost:8080/"
        },
        "outputId": "0636e922-7f2f-4d37-a858-5915a2045256"
      },
      "execution_count": null,
      "outputs": [
        {
          "output_type": "stream",
          "name": "stdout",
          "text": [
            "    do  and             true    false\n",
            "false true and do\n"
          ]
        }
      ]
    },
    {
      "cell_type": "code",
      "source": [
        "'''\n",
        "2.2 Сумма всех чисел до N\n",
        "Вам дано число N. Напишите скрипт, который считал бы сумму\n",
        "всех четных чисел в промежутке от 1 до N, включая N.\n",
        "К примеру, если N равняется 6, то вывод должен быть равен 2+4+6, то есть 12.\n",
        "'''\n",
        "n = int(input())\n",
        "sum_n = 0\n",
        "for i in range(1, n + 1):\n",
        "  if i % 2 == 0:\n",
        "    sum_n += i\n",
        "print(sum_n)"
      ],
      "metadata": {
        "id": "XNjrb8_Ewq4t",
        "colab": {
          "base_uri": "https://localhost:8080/"
        },
        "outputId": "dfbdc573-d35d-46f0-a1fd-4cd723db0a15"
      },
      "execution_count": null,
      "outputs": [
        {
          "output_type": "stream",
          "name": "stdout",
          "text": [
            "6\n",
            "12\n"
          ]
        }
      ]
    },
    {
      "cell_type": "markdown",
      "source": [
        "Данную задачу можно решить с помощью формулы суммы арифметической прогрессии:\n",
        "\n",
        "Если мы выпишем все четные числа до N, то заметим арифметическую прогрессию с разностью = 2:\n",
        "```\n",
        "2 4 6 8 ... N, где N-чет\n",
        "d = 2\n",
        "```\n",
        "Формула суммы арифметической прогресии:\n",
        "```\n",
        "S_n = ((a_1 + a_n)/2) * n, где n - количество элементов\n",
        "```\n",
        "Можем заменить a_n и n на:\n",
        "```\n",
        "a_n = a_1 + d(n - 1)\n",
        "n = N//2\n",
        "```\n",
        "Получаем:\n",
        "```\n",
        "S_n = ((a_1 + a_n)/2) * n = ((a_1 + (a_1 + d(N//2 - 1)))/2) * N//2\n",
        "```\n",
        "Зная, что  d = 2 и a_1 = 2, упрощаем формулу:\n",
        "```\n",
        "S_n = ((2 + (2 + 2(N//2 - 1)))/2) * N//2 = (2(1 + (1 + 1(N//2 - 1)))/2) * N//2=\n",
        "= (1 + (1 + N//2 - 1)) * N//2 = N//2 * (1 + N//2)\n",
        "```\n",
        "Формула: S_n = n//2 * (1 + n//2), где n - введенное число с клавиатуры\n",
        "\n",
        "\n",
        "\n",
        "\n",
        "\n",
        "\n"
      ],
      "metadata": {
        "id": "t_Zz4LT4M-rR"
      }
    },
    {
      "cell_type": "code",
      "source": [
        "n = int(input())\n",
        "sum_n = (n//2)*(n//2 + 1)\n",
        "print(sum_n)"
      ],
      "metadata": {
        "id": "I8GhFoXrMmUQ",
        "outputId": "d9039030-f505-484d-e4c0-98f4a8811f5e",
        "colab": {
          "base_uri": "https://localhost:8080/"
        }
      },
      "execution_count": null,
      "outputs": [
        {
          "output_type": "stream",
          "name": "stdout",
          "text": [
            "6\n",
            "12\n"
          ]
        }
      ]
    },
    {
      "cell_type": "code",
      "source": [
        "'''\n",
        "2.3 Палиндромы из чисел\n",
        "У вас есть список из целых чисел.\n",
        "Вам нужно написать скрипт, который определит, является ли последовательность чисел палиндромом.\n",
        "Если это палиндром, нужно вернуть true, а если нет — вернуть false.\n",
        "'''\n",
        "\n",
        "def is_palindrome(list_int):\n",
        "  i = 0\n",
        "  while(i<(len(list_int)//2)):\n",
        "    if list_int[i] != list_int[-i-1]:\n",
        "      return False\n",
        "    i += 1\n",
        "  return True\n",
        "\n",
        "list_int = list(map(int, input().split(' ')))\n",
        "print(is_palindrome(list_int))"
      ],
      "metadata": {
        "id": "Yr3Xia4Uwy9S",
        "colab": {
          "base_uri": "https://localhost:8080/"
        },
        "outputId": "93ffbc1b-8d97-4bf9-f0a2-5e35b0c619f0"
      },
      "execution_count": null,
      "outputs": [
        {
          "output_type": "stream",
          "name": "stdout",
          "text": [
            "5 2 6 0\n",
            "False\n"
          ]
        }
      ]
    },
    {
      "cell_type": "code",
      "source": [
        "list_int = list(map(int, input().split(' ')))\n",
        "True if list_int[::] == list_int[::-1] else False"
      ],
      "metadata": {
        "id": "Wb0xYGRq52uP",
        "outputId": "6c2d3a0b-5260-4fd5-888d-d8a60db8c844",
        "colab": {
          "base_uri": "https://localhost:8080/"
        }
      },
      "execution_count": null,
      "outputs": [
        {
          "name": "stdout",
          "output_type": "stream",
          "text": [
            "1 2 3 2 1\n"
          ]
        },
        {
          "output_type": "execute_result",
          "data": {
            "text/plain": [
              "True"
            ]
          },
          "metadata": {},
          "execution_count": 18
        }
      ]
    },
    {
      "cell_type": "code",
      "source": [
        "'''\n",
        "2.4 Заменить пробелы\n",
        "У вас есть строка STR, в которой есть слова с пробелами. Вам нужно заменить пробелы между словами на “@40”.\n",
        "'''\n",
        "my_str = input()\n",
        "my_str.replace(' ', '@40')"
      ],
      "metadata": {
        "id": "YcnNQmwFw5PI",
        "colab": {
          "base_uri": "https://localhost:8080/",
          "height": 53
        },
        "outputId": "213f5b25-0b29-453a-8859-3616516c59a7"
      },
      "execution_count": null,
      "outputs": [
        {
          "name": "stdout",
          "output_type": "stream",
          "text": [
            "fdg safgksgf sadf\n"
          ]
        },
        {
          "output_type": "execute_result",
          "data": {
            "text/plain": [
              "'fdg@40safgksgf@40sadf'"
            ],
            "application/vnd.google.colaboratory.intrinsic+json": {
              "type": "string"
            }
          },
          "metadata": {},
          "execution_count": 14
        }
      ]
    },
    {
      "cell_type": "code",
      "source": [
        "'''\n",
        "2.5 Уровни двоичного дерева\n",
        "Вам дано двоичное дерево, в котором находятся целые числа. Ваш скрипт должен вывести последовательность чисел,\n",
        "которая бы показывала, как он проходил по двоичному дереву.\n",
        "\n",
        "При этом количество попыток не должно превышать 100, количество ветвей дерева не должно быть меньше нуля и\n",
        "не должно превышать 1000, а числа дерева не должны быть отрицательными.\n",
        "'''"
      ],
      "metadata": {
        "id": "3xOLOPR2w99B"
      },
      "execution_count": null,
      "outputs": []
    },
    {
      "cell_type": "markdown",
      "source": [
        "# Блок 3"
      ],
      "metadata": {
        "id": "KpW_8QuKnXJ3"
      }
    },
    {
      "cell_type": "markdown",
      "source": [
        "В данном блоке будут задачи и вопросы с различных источников."
      ],
      "metadata": {
        "id": "ApSx0RpKnaKg"
      }
    },
    {
      "cell_type": "markdown",
      "source": [
        "## Вопрос 1. Сложность вставки и удаления элемента в список."
      ],
      "metadata": {
        "id": "Jxp-CI1gnoMx"
      }
    },
    {
      "cell_type": "markdown",
      "source": [
        "Ответ:\n",
        "\n",
        "Сложность операции вставки элемента в конец списка (.append(item)) - O(n). (амортизированное время)\n",
        "\n",
        "Сложность операции удаления элемента из конца списка (.pop()) — O(n).\n",
        "\n",
        "Вставка и удаление из произвольной позиции (.insert(idx, item) и .pop(idx)) — работают за линейное время O(n), потому что сдвигают все элементы после целевого."
      ],
      "metadata": {
        "id": "VnKwLJsXq8wl"
      }
    },
    {
      "cell_type": "markdown",
      "source": [
        "## Вопрос 2. Сложность выборки элемента по индексу в списке."
      ],
      "metadata": {
        "id": "ucIihkGXr0qQ"
      }
    },
    {
      "cell_type": "markdown",
      "source": [
        "Ответ:\n",
        "\n",
        "Выборка по индексу работает за константное время - O(1)."
      ],
      "metadata": {
        "id": "T26fsl7sr5Zz"
      }
    },
    {
      "cell_type": "markdown",
      "source": [
        "## Примечание.\n",
        "Можно почитать подробнее про структуру списков в документации и статье [\"Как устроен список в Python\"](https://antonz.ru/list-internals/)"
      ],
      "metadata": {
        "id": "oAudNR4Rs0tK"
      }
    },
    {
      "cell_type": "markdown",
      "source": [
        "## Вопрос 3. Что такое Flask?"
      ],
      "metadata": {
        "id": "yyLeiOhuUuHg"
      }
    },
    {
      "cell_type": "markdown",
      "source": [
        "## Вопрос 4. Чем отличается фреймворк от микрофреймворка?"
      ],
      "metadata": {
        "id": "wvCXzZHgU_dE"
      }
    },
    {
      "cell_type": "markdown",
      "source": [
        "## Вопрос 5. В чем разница между Flask и Django?"
      ],
      "metadata": {
        "id": "-XRzL5ZwVBQv"
      }
    },
    {
      "cell_type": "markdown",
      "source": [
        "## Вопрос 6. Программа \"Hello, world!\" на Flask."
      ],
      "metadata": {
        "id": "sXfTyKfoVCsN"
      }
    },
    {
      "cell_type": "markdown",
      "source": [
        "## Вопрос 7. Структура простого Flask-приложения?"
      ],
      "metadata": {
        "id": "Atb4MswvVEeo"
      }
    },
    {
      "cell_type": "markdown",
      "source": [
        "## Вопрос 8. Пример настройки виртуального окружения в Flask-приложения?"
      ],
      "metadata": {
        "id": "fAtdLUZPVFuA"
      }
    },
    {
      "cell_type": "markdown",
      "source": [
        "## Вопрос 9. Пример создания и настройки файла requirements.txt в Flask-приложении?"
      ],
      "metadata": {
        "id": "IfaUqQ6LVG-Y"
      }
    },
    {
      "cell_type": "markdown",
      "source": [
        "## Вопрос 10."
      ],
      "metadata": {
        "id": "WIZ6fQfsVIBh"
      }
    },
    {
      "cell_type": "markdown",
      "source": [
        "## Вопрос 11."
      ],
      "metadata": {
        "id": "v6c_1USZVJMR"
      }
    },
    {
      "cell_type": "markdown",
      "source": [
        "## Вопрос 12."
      ],
      "metadata": {
        "id": "smksPQZNVKcd"
      }
    },
    {
      "cell_type": "markdown",
      "source": [
        "## Вопрос 13."
      ],
      "metadata": {
        "id": "fp4auyWIVLZs"
      }
    },
    {
      "cell_type": "markdown",
      "source": [
        "## Вопрос 14."
      ],
      "metadata": {
        "id": "UNFWZg45VMW6"
      }
    },
    {
      "cell_type": "markdown",
      "source": [
        "## Вопрос 15."
      ],
      "metadata": {
        "id": "lNejODYYVNG_"
      }
    },
    {
      "cell_type": "markdown",
      "source": [
        "## Вопрос 16."
      ],
      "metadata": {
        "id": "YUWjZrINVOVA"
      }
    },
    {
      "cell_type": "markdown",
      "source": [
        "## Вопрос 17"
      ],
      "metadata": {
        "id": "s3Yq7ae9g7mQ"
      }
    },
    {
      "cell_type": "markdown",
      "source": [
        "Проверка на палиндром"
      ],
      "metadata": {
        "id": "Al0ta2idhC80"
      }
    },
    {
      "cell_type": "code",
      "source": [
        "#1 способ. Трюк с индексацией для получения «зеркальной» строки и сравнения её с исходной.\n",
        "text = input()\n",
        "if text == text[::-1]:\n",
        "  print('Слово является палиндромом')\n",
        "else:\n",
        "  print('Слово не является палиндромом')"
      ],
      "metadata": {
        "id": "cjOV03fLg7Ku",
        "outputId": "671cf907-4b9b-4123-9215-3f19a462b254",
        "colab": {
          "base_uri": "https://localhost:8080/"
        }
      },
      "execution_count": 2,
      "outputs": [
        {
          "output_type": "stream",
          "name": "stdout",
          "text": [
            "ап\n",
            "Слово не является палиндромом\n"
          ]
        }
      ]
    },
    {
      "cell_type": "code",
      "source": [
        "#2 способ. Цикл для определения палиндрома, сравнивая символы на симметричных позициях.\n",
        "text = input()\n",
        "is_palindrome = True\n",
        "for i in range(len(text) // 2):\n",
        "  if text[i] != text[-i - 1]:\n",
        "    is_palindrome = False\n",
        "    break\n",
        "if is_palindrome:\n",
        "  print('Слово является палиндромом')\n",
        "else:\n",
        "  print('Слово не является палиндромом')"
      ],
      "metadata": {
        "id": "Yy4T_r22iEJD",
        "outputId": "624a2ee0-b42c-4d72-ef83-36731941de09",
        "colab": {
          "base_uri": "https://localhost:8080/"
        }
      },
      "execution_count": 4,
      "outputs": [
        {
          "output_type": "stream",
          "name": "stdout",
          "text": [
            "asdsa\n",
            "Слово является палиндромом\n"
          ]
        }
      ]
    },
    {
      "cell_type": "code",
      "source": [
        "#3 способ. Рекурсивная функция\n",
        "def is_palindrome(s):\n",
        "  if len(s) < 2:\n",
        "    return True\n",
        "  if s[0] != s[-1]:\n",
        "    return False\n",
        "  return is_palindrome(s[1:-1])\n",
        "\n",
        "is_palindrome('kjylk')"
      ],
      "metadata": {
        "id": "6spTjLHpjgWE",
        "outputId": "ee8530f5-f5cb-464f-faba-eb50fe52ec75",
        "colab": {
          "base_uri": "https://localhost:8080/"
        }
      },
      "execution_count": 6,
      "outputs": [
        {
          "output_type": "execute_result",
          "data": {
            "text/plain": [
              "False"
            ]
          },
          "metadata": {},
          "execution_count": 6
        }
      ]
    },
    {
      "cell_type": "code",
      "source": [
        "#4 способ. Без учета знаков препинания и пробелов.\n",
        "s = \"A man, a plan, a canal: Panama\"\n",
        "s = s.lower().replace(' ', '')\n",
        "if s == s[::-1]:\n",
        "  print(\"Это палиндром\")\n",
        "else:\n",
        "  print(\"Это не палиндром\")"
      ],
      "metadata": {
        "id": "5oTc4PkPkRTM",
        "outputId": "b0de8722-3c35-4e3e-ef43-c92e81a1ea6a",
        "colab": {
          "base_uri": "https://localhost:8080/"
        }
      },
      "execution_count": 7,
      "outputs": [
        {
          "output_type": "stream",
          "name": "stdout",
          "text": [
            "Это не палиндром\n"
          ]
        }
      ]
    },
    {
      "cell_type": "markdown",
      "source": [
        "## Вопрос 18"
      ],
      "metadata": {
        "id": "6_Kn-hfukHru"
      }
    },
    {
      "cell_type": "markdown",
      "source": [
        "Необходимо реализовать функцию, принимающую в аргументах строку, состоящую из букв, и возвращающую новую строку, в которой повторяющиеся буквы заменены количеством повторений."
      ],
      "metadata": {
        "id": "NJ5x7Ae9k5hb"
      }
    },
    {
      "cell_type": "code",
      "source": [
        "#1 сопоб. функциия groupby из модуля itertools. Она превратит последовательность элементов в последовательность групп повторяющихся символов.\n",
        "from itertools import groupby\n",
        "\n",
        "def rle_encode(data: str) -> str:\n",
        "  return \"\".join(str(len(list(group_items))) + key\n",
        "    for key, group_items in groupby(data))\n",
        "\n",
        "rle_encode('aaasd')"
      ],
      "metadata": {
        "id": "HkpGTTF6k-du",
        "outputId": "d76c79a1-78cd-4993-a4c0-1d427e0c702d",
        "colab": {
          "base_uri": "https://localhost:8080/",
          "height": 36
        }
      },
      "execution_count": 10,
      "outputs": [
        {
          "output_type": "execute_result",
          "data": {
            "text/plain": [
              "'3a1s1d'"
            ],
            "application/vnd.google.colaboratory.intrinsic+json": {
              "type": "string"
            }
          },
          "metadata": {},
          "execution_count": 10
        }
      ]
    },
    {
      "cell_type": "code",
      "source": [
        "#2\n",
        "def encode_message(message):\n",
        "  encoded_string = \"\"\n",
        "  i = 0\n",
        "  while (i <= len(message) - 1):\n",
        "    count = 1\n",
        "    ch = message[i]\n",
        "    j = i\n",
        "    while (j < len(message) - 1):\n",
        "      if (message[j] == message[j + 1]):\n",
        "        count += 1\n",
        "        j += 1\n",
        "      else:\n",
        "        break\n",
        "    encoded_string = encoded_string + str(count) + ch\n",
        "    i = j + 1\n",
        "  return encoded_string\n",
        "\n",
        "encode_message('asdasddss')"
      ],
      "metadata": {
        "id": "UaAIMY_wlyjQ",
        "outputId": "5fd629eb-3e9f-4db3-9ead-785abfbc2236",
        "colab": {
          "base_uri": "https://localhost:8080/",
          "height": 36
        }
      },
      "execution_count": 11,
      "outputs": [
        {
          "output_type": "execute_result",
          "data": {
            "text/plain": [
              "'1a1s1d1a1s2d2s'"
            ],
            "application/vnd.google.colaboratory.intrinsic+json": {
              "type": "string"
            }
          },
          "metadata": {},
          "execution_count": 11
        }
      ]
    },
    {
      "cell_type": "markdown",
      "source": [
        "## Вопрос 18"
      ],
      "metadata": {
        "id": "SXdoYmR_m8T4"
      }
    },
    {
      "cell_type": "markdown",
      "source": [
        "Подсчёт гласных в строке"
      ],
      "metadata": {
        "id": "r7Q2ze3Cm_25"
      }
    },
    {
      "cell_type": "code",
      "source": [
        "#1. использование генераторов списков\n",
        "string = input()\n",
        "vowels = [char for char in string if char in 'аеёиоуыэюяАЕЁИОУЫЭЮЯ']\n",
        "print(len(vowels))"
      ],
      "metadata": {
        "id": "G3VV2hCQnBm7",
        "outputId": "7a50364a-cd4a-4f98-8d81-0fde5d7ce9de",
        "colab": {
          "base_uri": "https://localhost:8080/"
        }
      },
      "execution_count": 13,
      "outputs": [
        {
          "output_type": "stream",
          "name": "stdout",
          "text": [
            "ааааэ\n",
            "5\n"
          ]
        }
      ]
    },
    {
      "cell_type": "code",
      "source": [
        "#2. использование регулярных выражений\n",
        "import re\n",
        "\n",
        "string = input()\n",
        "count = len(re.findall(\"[аеёиоуыэюяАЕЁИОУЫЭЮЯ]\", string))\n",
        "print(count)"
      ],
      "metadata": {
        "id": "mKuHu3Utn_AL",
        "outputId": "9e9c02d7-2b8b-4239-8f9d-e82faf3518a2",
        "colab": {
          "base_uri": "https://localhost:8080/"
        }
      },
      "execution_count": 14,
      "outputs": [
        {
          "output_type": "stream",
          "name": "stdout",
          "text": [
            "олол\n",
            "2\n"
          ]
        }
      ]
    },
    {
      "cell_type": "markdown",
      "source": [
        "# Блок 4"
      ],
      "metadata": {
        "id": "_OvCSlFBovkF"
      }
    },
    {
      "cell_type": "markdown",
      "source": [
        "## Сортировка пузырьком\n",
        "Временная сложность = O(n²)\n",
        "\n",
        "Пространственная сложность = O(1)."
      ],
      "metadata": {
        "id": "b-FTp_h-o3lY"
      }
    },
    {
      "cell_type": "code",
      "source": [
        "l = [1, 3, 7, 9, 10, 0, -6, -2, 5, 1]\n",
        "# итерируемся по неотсорт. массиву до предпоследнего элемента\n",
        "for i in range(len(l) - 1):\n",
        "  swapped = False\n",
        "  # итерируемся по оставшимся неотсортированным объектам\n",
        "  for j in range(len(l) - 1 - i):\n",
        "    if l[j] > l[j + 1]:\n",
        "      l[j], l[j + 1] = l[j + 1], l[j]\n",
        "      swapped = True\n",
        "  if not swapped :\n",
        "    break\n",
        "\n",
        "print(l)"
      ],
      "metadata": {
        "id": "fYYCfsdHou_4",
        "outputId": "023c33ad-f806-4a57-cdea-ab25b63ff104",
        "colab": {
          "base_uri": "https://localhost:8080/"
        }
      },
      "execution_count": 23,
      "outputs": [
        {
          "output_type": "stream",
          "name": "stdout",
          "text": [
            "[-6, -2, 0, 1, 1, 3, 5, 7, 9, 10]\n"
          ]
        }
      ]
    },
    {
      "cell_type": "markdown",
      "source": [
        "## Быстрая сортировка\n",
        "\n",
        "Значения pivot лежат в основе алгоритма быстрой сортировки. По существу, pivot опорные значения. Постановка pivot означает, что объекты слева всегда меньше, а элементы справа больше, чем pivot.\n",
        "\n",
        "Временная сложность = O(n*log(n))"
      ],
      "metadata": {
        "id": "n8yMv58ftsht"
      }
    },
    {
      "cell_type": "code",
      "source": [
        "def quick_sort(unsorted):\n",
        "  if len(unsorted) <= 1:\n",
        "    return unsorted\n",
        "\n",
        "  pivot = unsorted[len(unsorted) // 2]\n",
        "  left = [x for x in unsorted if x < pivot]\n",
        "  middle = [x for x in unsorted if x == pivot]\n",
        "  right = [x for x in unsorted if x > pivot]\n",
        "\n",
        "  return quick_sort(left) + middle + quick_sort(right)\n",
        "\n",
        "\n",
        "\n",
        "l = [1, 3, 7, 9, 10, 0, -6, -2, 5, 1]\n",
        "print(quick_sort(l))\n"
      ],
      "metadata": {
        "id": "LFDxMJbCt3bZ",
        "outputId": "9912d5ef-4b60-44a3-a088-1b756c210029",
        "colab": {
          "base_uri": "https://localhost:8080/"
        }
      },
      "execution_count": 25,
      "outputs": [
        {
          "output_type": "stream",
          "name": "stdout",
          "text": [
            "[-6, -2, 0, 1, 1, 3, 5, 7, 9, 10]\n"
          ]
        }
      ]
    },
    {
      "cell_type": "markdown",
      "source": [
        "# Ссылки\n",
        "\n",
        "1. [Репозиторий с подобной тематикой](https://github.com/markdrrr/interview_questions_python_junior/blob/main/README.md)"
      ],
      "metadata": {
        "id": "x2b631xj_xmG"
      }
    }
  ]
}