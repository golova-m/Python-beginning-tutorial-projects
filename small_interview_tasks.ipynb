{
  "nbformat": 4,
  "nbformat_minor": 0,
  "metadata": {
    "colab": {
      "provenance": [],
      "authorship_tag": "ABX9TyNaWKcpI3kXu/bXXQ5m4R2Z",
      "include_colab_link": true
    },
    "kernelspec": {
      "name": "python3",
      "display_name": "Python 3"
    },
    "language_info": {
      "name": "python"
    }
  },
  "cells": [
    {
      "cell_type": "markdown",
      "metadata": {
        "id": "view-in-github",
        "colab_type": "text"
      },
      "source": [
        "<a href=\"https://colab.research.google.com/github/golova-m/Python-beginning-tutorial-projects/blob/standard-interview-tasks/small_interview_tasks.ipynb\" target=\"_parent\"><img src=\"https://colab.research.google.com/assets/colab-badge.svg\" alt=\"Open In Colab\"/></a>"
      ]
    },
    {
      "cell_type": "markdown",
      "source": [
        "Задачи, которые дают на собеседованиях отличаются сильно друг от друга и зависят от компании."
      ],
      "metadata": {
        "id": "QagOQu1S_Jbu"
      }
    },
    {
      "cell_type": "markdown",
      "source": [
        "# Блок 1\n",
        "\n",
        "В этом блоке будет разбор задач с сайта [pythonist](https://pythonist.ru/python-voprosy-sobesedovaniya-chast-i-junior/#qst)."
      ],
      "metadata": {
        "id": "R6MEOsWbB4vm"
      }
    },
    {
      "cell_type": "code",
      "source": [
        "'''\n",
        "1.1 Как преобразовать строку, содержащую бинарный код (0 или 1),\n",
        "в число (целого типа)? Напишите программу, которая будет это делать.\n",
        "'''\n",
        "binary_str = bin(56)\n",
        "print(type(binary_str))\n",
        "binary_int = int(binary_str, 2)\n",
        "print(type(binary_int))"
      ],
      "metadata": {
        "id": "K9VdasX8CHhV",
        "outputId": "fa5c2cf6-bcd9-487a-ba22-dafa14713b4e",
        "colab": {
          "base_uri": "https://localhost:8080/"
        }
      },
      "execution_count": 14,
      "outputs": [
        {
          "output_type": "stream",
          "name": "stdout",
          "text": [
            "<class 'str'>\n",
            "<class 'int'>\n"
          ]
        }
      ]
    },
    {
      "cell_type": "markdown",
      "source": [
        "Предыдущий код мы можем сократить, убрав принты и проверку на типы, а также в одной строке записать преобразования."
      ],
      "metadata": {
        "id": "jxKZDmBEHzG9"
      }
    },
    {
      "cell_type": "code",
      "source": [
        "int(bin(56), 2)"
      ],
      "metadata": {
        "id": "sVnDpAilD1ZE",
        "outputId": "1699cf2a-927f-4423-94f8-d6382ad3b2f2",
        "colab": {
          "base_uri": "https://localhost:8080/"
        }
      },
      "execution_count": 17,
      "outputs": [
        {
          "output_type": "execute_result",
          "data": {
            "text/plain": [
              "56"
            ]
          },
          "metadata": {},
          "execution_count": 17
        }
      ]
    },
    {
      "cell_type": "code",
      "source": [
        "'''\n",
        "1.2 Как проверить, что кортеж A содержит в себе все элементы кортежа B?\n",
        "Напишите программу, которая это будет выполнять.\n",
        "'''\n",
        "tuple_a = (1, 2, 3, 4, 5)\n",
        "tuple_b = (3, 4, 5)\n",
        "\n",
        "set(tuple_b).issubset(set(tuple_a))"
      ],
      "metadata": {
        "id": "ugUHPI0sIrMl",
        "outputId": "9aed8740-505f-4799-cfd4-d55dd3a2ff51",
        "colab": {
          "base_uri": "https://localhost:8080/"
        }
      },
      "execution_count": 21,
      "outputs": [
        {
          "output_type": "execute_result",
          "data": {
            "text/plain": [
              "True"
            ]
          },
          "metadata": {},
          "execution_count": 21
        }
      ]
    },
    {
      "cell_type": "code",
      "source": [
        "'''\n",
        "1.3 Какой будет результат выполнения следующего кода:\n",
        "'''\n",
        "\n",
        "def f():\n",
        "  x = 15\n",
        "  print(x)\n",
        "x = 12\n",
        "f()"
      ],
      "metadata": {
        "id": "lcW7K6j7MluQ",
        "outputId": "f65c147d-41f7-4fe7-81cf-209c3c8e5d67",
        "colab": {
          "base_uri": "https://localhost:8080/"
        }
      },
      "execution_count": 22,
      "outputs": [
        {
          "output_type": "stream",
          "name": "stdout",
          "text": [
            "15\n"
          ]
        }
      ]
    },
    {
      "cell_type": "code",
      "source": [
        "'''\n",
        "1.4 Как преобразовать строку в число, состоящее из ASCII-кодов? Напишите программу для этой операции.\n",
        "'''\n",
        "s = 'gfthd'\n",
        "[ord(c) for c in s]"
      ],
      "metadata": {
        "id": "f78mC2N4Mzr8",
        "outputId": "a607cc05-5052-477c-b070-d0045d132c63",
        "colab": {
          "base_uri": "https://localhost:8080/"
        }
      },
      "execution_count": 24,
      "outputs": [
        {
          "output_type": "execute_result",
          "data": {
            "text/plain": [
              "[103, 102, 116, 104, 100]"
            ]
          },
          "metadata": {},
          "execution_count": 24
        }
      ]
    },
    {
      "cell_type": "code",
      "source": [
        "'''\n",
        "1.5 Как удалить пустые строки (длиной 0) из списка строк? Напишите программу для этого.\n",
        "'''\n",
        "list_str = ['', '2', '', 'a', 'rt', ' ']\n",
        "for i in list_str:\n",
        "  if i == '':\n",
        "    list_str.remove(i)\n",
        "print(list_str)"
      ],
      "metadata": {
        "id": "ECW7MIjfOcft",
        "outputId": "d7cc3824-4035-4023-d7de-1a14e5feaae0",
        "colab": {
          "base_uri": "https://localhost:8080/"
        }
      },
      "execution_count": 27,
      "outputs": [
        {
          "output_type": "stream",
          "name": "stdout",
          "text": [
            "['2', 'a', 'rt', ' ']\n"
          ]
        }
      ]
    },
    {
      "cell_type": "code",
      "source": [
        "list_str = ['', '2', '', 'a', 'rt', ' ']\n",
        "list_str = list(filter(None, list_str))\n",
        "print(list_str)"
      ],
      "metadata": {
        "id": "_GmOQpTJPnJc",
        "outputId": "58ff6b47-cd43-4222-c465-d7f030463961",
        "colab": {
          "base_uri": "https://localhost:8080/"
        }
      },
      "execution_count": 31,
      "outputs": [
        {
          "output_type": "stream",
          "name": "stdout",
          "text": [
            "['2', 'a', 'rt', ' ']\n"
          ]
        }
      ]
    },
    {
      "cell_type": "code",
      "source": [
        "list_str = ['', '2', '', 'a', 'rt', ' ']\n",
        "[x for x in list_str if x]"
      ],
      "metadata": {
        "id": "Bek51ij8Qp2y",
        "outputId": "6e99b731-1992-4987-bdd8-cd592cd76f7a",
        "colab": {
          "base_uri": "https://localhost:8080/"
        }
      },
      "execution_count": 33,
      "outputs": [
        {
          "output_type": "execute_result",
          "data": {
            "text/plain": [
              "['2', 'a', 'rt', ' ']"
            ]
          },
          "metadata": {},
          "execution_count": 33
        }
      ]
    },
    {
      "cell_type": "code",
      "source": [
        "'''\n",
        "1.6 Создайте строку из чисел от 0 до 100 следующего вида: \"0123456789101112...\"\n",
        "'''\n",
        "str_number = ''\n",
        "for x in range(101):\n",
        "  str_number += str(x)\n",
        "print(str_number)"
      ],
      "metadata": {
        "id": "uVR76QTsQ3xJ",
        "outputId": "8668458f-83d6-425f-c9de-4d8ad5c5fd3d",
        "colab": {
          "base_uri": "https://localhost:8080/"
        }
      },
      "execution_count": 38,
      "outputs": [
        {
          "output_type": "stream",
          "name": "stdout",
          "text": [
            "0123456789101112131415161718192021222324252627282930313233343536373839404142434445464748495051525354555657585960616263646566676869707172737475767778798081828384858687888990919293949596979899100\n"
          ]
        }
      ]
    },
    {
      "cell_type": "code",
      "source": [
        "str_number = ''.join([str(i) for i in range(101)])\n",
        "print(str_number)"
      ],
      "metadata": {
        "id": "tiHiHrdrTmKR",
        "outputId": "46ec9898-8ae0-4dd4-844a-1074f7fa150a",
        "colab": {
          "base_uri": "https://localhost:8080/"
        }
      },
      "execution_count": 44,
      "outputs": [
        {
          "output_type": "stream",
          "name": "stdout",
          "text": [
            "0123456789101112131415161718192021222324252627282930313233343536373839404142434445464748495051525354555657585960616263646566676869707172737475767778798081828384858687888990919293949596979899100\n"
          ]
        }
      ]
    },
    {
      "cell_type": "code",
      "source": [
        "print(*range(101), sep='')"
      ],
      "metadata": {
        "id": "CRIXQtFwSU0B",
        "outputId": "4f5ee453-15fa-4acd-9091-12ba80b4fa43",
        "colab": {
          "base_uri": "https://localhost:8080/"
        }
      },
      "execution_count": 41,
      "outputs": [
        {
          "output_type": "stream",
          "name": "stdout",
          "text": [
            "0123456789101112131415161718192021222324252627282930313233343536373839404142434445464748495051525354555657585960616263646566676869707172737475767778798081828384858687888990919293949596979899100\n"
          ]
        }
      ]
    },
    {
      "cell_type": "code",
      "source": [
        "'''\n",
        "1.7 Преобразуйте список, где есть повторяющиеся элементы, в список, где все элементы уникальны.\n",
        "'''\n",
        "list_numbers = [-60, -60, -2, 0, 2, -2, 6]\n",
        "list_numbers = list(set(list_numbers))\n",
        "print(list_numbers)"
      ],
      "metadata": {
        "id": "ccBVkC27T7r7",
        "outputId": "e7a9b095-a532-4d7a-98c1-eaa9ed396c19",
        "colab": {
          "base_uri": "https://localhost:8080/"
        }
      },
      "execution_count": 47,
      "outputs": [
        {
          "output_type": "stream",
          "name": "stdout",
          "text": [
            "[0, 2, -60, 6, -2]\n"
          ]
        }
      ]
    },
    {
      "cell_type": "code",
      "source": [
        "\n",
        "list_numbers = [-60, -60, -2, 0, 2, -2, 6]\n",
        "list_numbers = list(dict.fromkeys(list_numbers))\n",
        "print(list_numbers)"
      ],
      "metadata": {
        "id": "k0efLb7QYPAW",
        "outputId": "09a98939-0e9b-4097-bcf1-b05600bdfad8",
        "colab": {
          "base_uri": "https://localhost:8080/"
        }
      },
      "execution_count": 48,
      "outputs": [
        {
          "output_type": "stream",
          "name": "stdout",
          "text": [
            "[-60, -2, 0, 2, 6]\n"
          ]
        }
      ]
    },
    {
      "cell_type": "code",
      "source": [
        "'''\n",
        "1.8 Создайте список всех простых чисел, лежащих в диапазоне от 0 до 100.\n",
        "'''"
      ],
      "metadata": {
        "id": "450z7QeGa3iN",
        "outputId": "efd972a3-f5b8-48f6-a1d2-4d2d15ceb9f1",
        "colab": {
          "base_uri": "https://localhost:8080/",
          "height": 35
        }
      },
      "execution_count": 51,
      "outputs": [
        {
          "output_type": "execute_result",
          "data": {
            "text/plain": [
              "'\\n1.8 Создайте список всех простых чисел, лежащих в диапазоне от 0 до 100.\\n'"
            ],
            "application/vnd.google.colaboratory.intrinsic+json": {
              "type": "string"
            }
          },
          "metadata": {},
          "execution_count": 51
        }
      ]
    },
    {
      "cell_type": "markdown",
      "source": [
        "# Ссылки\n",
        "\n",
        "1. [Репозиторий с подобной тематикой](https://github.com/markdrrr/interview_questions_python_junior/blob/main/README.md)"
      ],
      "metadata": {
        "id": "x2b631xj_xmG"
      }
    }
  ]
}