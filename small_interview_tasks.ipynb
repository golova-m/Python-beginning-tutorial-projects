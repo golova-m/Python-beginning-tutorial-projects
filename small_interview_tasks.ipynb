{
  "nbformat": 4,
  "nbformat_minor": 0,
  "metadata": {
    "colab": {
      "provenance": [],
      "authorship_tag": "ABX9TyPPFAYcLZ42sgb222Qqd1i+",
      "include_colab_link": true
    },
    "kernelspec": {
      "name": "python3",
      "display_name": "Python 3"
    },
    "language_info": {
      "name": "python"
    }
  },
  "cells": [
    {
      "cell_type": "markdown",
      "metadata": {
        "id": "view-in-github",
        "colab_type": "text"
      },
      "source": [
        "<a href=\"https://colab.research.google.com/github/golova-m/Python-beginning-tutorial-projects/blob/standard-interview-tasks/small_interview_tasks.ipynb\" target=\"_parent\"><img src=\"https://colab.research.google.com/assets/colab-badge.svg\" alt=\"Open In Colab\"/></a>"
      ]
    },
    {
      "cell_type": "markdown",
      "source": [
        "Задачи, которые дают на собеседованиях отличаются сильно друг от друга и зависят от компании."
      ],
      "metadata": {
        "id": "QagOQu1S_Jbu"
      }
    },
    {
      "cell_type": "markdown",
      "source": [
        "# Блок 1\n",
        "\n",
        "В этом блоке будет разбор задач с сайта [pythonist](https://pythonist.ru/python-voprosy-sobesedovaniya-chast-i-junior/#qst)."
      ],
      "metadata": {
        "id": "R6MEOsWbB4vm"
      }
    },
    {
      "cell_type": "code",
      "source": [
        "'''\n",
        "1.1 Как преобразовать строку, содержащую бинарный код (0 или 1),\n",
        "в число (целого типа)? Напишите программу, которая будет это делать.\n",
        "'''\n",
        "binary_str = bin(56)\n",
        "print(type(binary_str))\n",
        "binary_int = int(binary_str, 2)\n",
        "print(type(binary_int))"
      ],
      "metadata": {
        "id": "K9VdasX8CHhV",
        "outputId": "fa5c2cf6-bcd9-487a-ba22-dafa14713b4e",
        "colab": {
          "base_uri": "https://localhost:8080/"
        }
      },
      "execution_count": null,
      "outputs": [
        {
          "output_type": "stream",
          "name": "stdout",
          "text": [
            "<class 'str'>\n",
            "<class 'int'>\n"
          ]
        }
      ]
    },
    {
      "cell_type": "markdown",
      "source": [
        "Предыдущий код мы можем сократить, убрав принты и проверку на типы, а также в одной строке записать преобразования."
      ],
      "metadata": {
        "id": "jxKZDmBEHzG9"
      }
    },
    {
      "cell_type": "code",
      "source": [
        "int(bin(56), 2)"
      ],
      "metadata": {
        "id": "sVnDpAilD1ZE",
        "outputId": "1699cf2a-927f-4423-94f8-d6382ad3b2f2",
        "colab": {
          "base_uri": "https://localhost:8080/"
        }
      },
      "execution_count": null,
      "outputs": [
        {
          "output_type": "execute_result",
          "data": {
            "text/plain": [
              "56"
            ]
          },
          "metadata": {},
          "execution_count": 17
        }
      ]
    },
    {
      "cell_type": "code",
      "source": [
        "'''\n",
        "1.2 Как проверить, что кортеж A содержит в себе все элементы кортежа B?\n",
        "Напишите программу, которая это будет выполнять.\n",
        "'''\n",
        "tuple_a = (1, 2, 3, 4, 5)\n",
        "tuple_b = (3, 4, 5)\n",
        "\n",
        "set(tuple_b).issubset(set(tuple_a))"
      ],
      "metadata": {
        "id": "ugUHPI0sIrMl",
        "outputId": "9aed8740-505f-4799-cfd4-d55dd3a2ff51",
        "colab": {
          "base_uri": "https://localhost:8080/"
        }
      },
      "execution_count": null,
      "outputs": [
        {
          "output_type": "execute_result",
          "data": {
            "text/plain": [
              "True"
            ]
          },
          "metadata": {},
          "execution_count": 21
        }
      ]
    },
    {
      "cell_type": "code",
      "source": [
        "'''\n",
        "1.3 Какой будет результат выполнения следующего кода:\n",
        "'''\n",
        "\n",
        "def f():\n",
        "  x = 15\n",
        "  print(x)\n",
        "x = 12\n",
        "f()"
      ],
      "metadata": {
        "id": "lcW7K6j7MluQ",
        "outputId": "f65c147d-41f7-4fe7-81cf-209c3c8e5d67",
        "colab": {
          "base_uri": "https://localhost:8080/"
        }
      },
      "execution_count": null,
      "outputs": [
        {
          "output_type": "stream",
          "name": "stdout",
          "text": [
            "15\n"
          ]
        }
      ]
    },
    {
      "cell_type": "code",
      "source": [
        "'''\n",
        "1.4 Как преобразовать строку в число, состоящее из ASCII-кодов? Напишите программу для этой операции.\n",
        "'''\n",
        "s = 'gfthd'\n",
        "[ord(c) for c in s]"
      ],
      "metadata": {
        "id": "f78mC2N4Mzr8",
        "outputId": "a607cc05-5052-477c-b070-d0045d132c63",
        "colab": {
          "base_uri": "https://localhost:8080/"
        }
      },
      "execution_count": null,
      "outputs": [
        {
          "output_type": "execute_result",
          "data": {
            "text/plain": [
              "[103, 102, 116, 104, 100]"
            ]
          },
          "metadata": {},
          "execution_count": 24
        }
      ]
    },
    {
      "cell_type": "code",
      "source": [
        "'''\n",
        "1.5 Как удалить пустые строки (длиной 0) из списка строк? Напишите программу для этого.\n",
        "'''\n",
        "list_str = ['', '2', '', 'a', 'rt', ' ']\n",
        "for i in list_str:\n",
        "  if i == '':\n",
        "    list_str.remove(i)\n",
        "print(list_str)"
      ],
      "metadata": {
        "id": "ECW7MIjfOcft",
        "outputId": "d7cc3824-4035-4023-d7de-1a14e5feaae0",
        "colab": {
          "base_uri": "https://localhost:8080/"
        }
      },
      "execution_count": null,
      "outputs": [
        {
          "output_type": "stream",
          "name": "stdout",
          "text": [
            "['2', 'a', 'rt', ' ']\n"
          ]
        }
      ]
    },
    {
      "cell_type": "code",
      "source": [
        "list_str = ['', '2', '', 'a', 'rt', ' ']\n",
        "list_str = list(filter(None, list_str))\n",
        "print(list_str)"
      ],
      "metadata": {
        "id": "_GmOQpTJPnJc",
        "outputId": "58ff6b47-cd43-4222-c465-d7f030463961",
        "colab": {
          "base_uri": "https://localhost:8080/"
        }
      },
      "execution_count": null,
      "outputs": [
        {
          "output_type": "stream",
          "name": "stdout",
          "text": [
            "['2', 'a', 'rt', ' ']\n"
          ]
        }
      ]
    },
    {
      "cell_type": "code",
      "source": [
        "list_str = ['', '2', '', 'a', 'rt', ' ']\n",
        "[x for x in list_str if x]"
      ],
      "metadata": {
        "id": "Bek51ij8Qp2y",
        "outputId": "6e99b731-1992-4987-bdd8-cd592cd76f7a",
        "colab": {
          "base_uri": "https://localhost:8080/"
        }
      },
      "execution_count": null,
      "outputs": [
        {
          "output_type": "execute_result",
          "data": {
            "text/plain": [
              "['2', 'a', 'rt', ' ']"
            ]
          },
          "metadata": {},
          "execution_count": 33
        }
      ]
    },
    {
      "cell_type": "code",
      "source": [
        "'''\n",
        "1.6 Создайте строку из чисел от 0 до 100 следующего вида: \"0123456789101112...\"\n",
        "'''\n",
        "str_number = ''\n",
        "for x in range(101):\n",
        "  str_number += str(x)\n",
        "print(str_number)"
      ],
      "metadata": {
        "id": "uVR76QTsQ3xJ",
        "outputId": "8668458f-83d6-425f-c9de-4d8ad5c5fd3d",
        "colab": {
          "base_uri": "https://localhost:8080/"
        }
      },
      "execution_count": null,
      "outputs": [
        {
          "output_type": "stream",
          "name": "stdout",
          "text": [
            "0123456789101112131415161718192021222324252627282930313233343536373839404142434445464748495051525354555657585960616263646566676869707172737475767778798081828384858687888990919293949596979899100\n"
          ]
        }
      ]
    },
    {
      "cell_type": "code",
      "source": [
        "str_number = ''.join([str(i) for i in range(101)])\n",
        "print(str_number)"
      ],
      "metadata": {
        "id": "tiHiHrdrTmKR",
        "outputId": "46ec9898-8ae0-4dd4-844a-1074f7fa150a",
        "colab": {
          "base_uri": "https://localhost:8080/"
        }
      },
      "execution_count": null,
      "outputs": [
        {
          "output_type": "stream",
          "name": "stdout",
          "text": [
            "0123456789101112131415161718192021222324252627282930313233343536373839404142434445464748495051525354555657585960616263646566676869707172737475767778798081828384858687888990919293949596979899100\n"
          ]
        }
      ]
    },
    {
      "cell_type": "code",
      "source": [
        "print(*range(101), sep='')"
      ],
      "metadata": {
        "id": "CRIXQtFwSU0B",
        "outputId": "4f5ee453-15fa-4acd-9091-12ba80b4fa43",
        "colab": {
          "base_uri": "https://localhost:8080/"
        }
      },
      "execution_count": null,
      "outputs": [
        {
          "output_type": "stream",
          "name": "stdout",
          "text": [
            "0123456789101112131415161718192021222324252627282930313233343536373839404142434445464748495051525354555657585960616263646566676869707172737475767778798081828384858687888990919293949596979899100\n"
          ]
        }
      ]
    },
    {
      "cell_type": "code",
      "source": [
        "'''\n",
        "1.7 Преобразуйте список, где есть повторяющиеся элементы, в список, где все элементы уникальны.\n",
        "'''\n",
        "list_numbers = [-60, -60, -2, 0, 2, -2, 6]\n",
        "list_numbers = list(set(list_numbers))\n",
        "print(list_numbers)"
      ],
      "metadata": {
        "id": "ccBVkC27T7r7",
        "outputId": "e7a9b095-a532-4d7a-98c1-eaa9ed396c19",
        "colab": {
          "base_uri": "https://localhost:8080/"
        }
      },
      "execution_count": null,
      "outputs": [
        {
          "output_type": "stream",
          "name": "stdout",
          "text": [
            "[0, 2, -60, 6, -2]\n"
          ]
        }
      ]
    },
    {
      "cell_type": "code",
      "source": [
        "\n",
        "list_numbers = [-60, -60, -2, 0, 2, -2, 6]\n",
        "list_numbers = list(dict.fromkeys(list_numbers))\n",
        "print(list_numbers)"
      ],
      "metadata": {
        "id": "k0efLb7QYPAW",
        "outputId": "09a98939-0e9b-4097-bcf1-b05600bdfad8",
        "colab": {
          "base_uri": "https://localhost:8080/"
        }
      },
      "execution_count": null,
      "outputs": [
        {
          "output_type": "stream",
          "name": "stdout",
          "text": [
            "[-60, -2, 0, 2, 6]\n"
          ]
        }
      ]
    },
    {
      "cell_type": "code",
      "source": [
        "'''\n",
        "1.8 Создайте список всех простых чисел, лежащих в диапазоне от 0 до 100.\n",
        "'''\n",
        "for i in range(2, 100):\n",
        "  simple = True\n",
        "  for j in range(2, i):\n",
        "    if i%j == 0:\n",
        "      simple = False\n",
        "      break\n",
        "  if simple :\n",
        "    print(i)"
      ],
      "metadata": {
        "id": "450z7QeGa3iN",
        "outputId": "f167f894-5b72-4043-f9b5-24d8fdbd71e5",
        "colab": {
          "base_uri": "https://localhost:8080/"
        }
      },
      "execution_count": null,
      "outputs": [
        {
          "output_type": "stream",
          "name": "stdout",
          "text": [
            "2\n",
            "3\n",
            "5\n",
            "7\n",
            "11\n",
            "13\n",
            "17\n",
            "19\n",
            "23\n",
            "29\n",
            "31\n",
            "37\n",
            "41\n",
            "43\n",
            "47\n",
            "53\n",
            "59\n",
            "61\n",
            "67\n",
            "71\n",
            "73\n",
            "79\n",
            "83\n",
            "89\n",
            "97\n"
          ]
        }
      ]
    },
    {
      "cell_type": "markdown",
      "source": [
        "# Блок 2\n",
        "\n",
        "В данном блоке будут рассмотрены задачи с сайта [5 задач с собеседований Amazon для Python-разработчиков](https://tproger.ru/articles/5-zadach-s-sobesedovanij-ibm-dlya-python-razrabotchikov)"
      ],
      "metadata": {
        "id": "ypmIi9yiwOra"
      }
    },
    {
      "cell_type": "code",
      "source": [
        "'''\n",
        "2.1 Изменить порядок слов\n",
        "Вам дана строка ‘s’ с некоторым количеством слов N.\n",
        "Нужно сделать так, чтобы исходный порядок слов в строке изменился на обратный.\n",
        "\n",
        "При этом в исходной строке между словами может быть множество пробелов,\n",
        "но в результате работы скрипта мы должны получить предложение с одним пробелом между словами,\n",
        "без пробелов в начале предложения и после его конца.\n",
        "'''\n",
        "\n",
        "input_str = input().split(' ')\n",
        "new_str = ''\n",
        "for i in range(1, len(input_str) + 1):\n",
        "  if ' ' not in input_str[-i] and '' != input_str[-i]:\n",
        "    new_str = f'{new_str}{input_str[-i]} '\n",
        "    print(f'new_str = {new_str}')\n",
        "new_str = new_str[:-1]\n",
        "print(new_str)"
      ],
      "metadata": {
        "id": "pBwWFuMqwa44",
        "outputId": "ed947a0f-998e-4647-8910-8dbf5da8c64b",
        "colab": {
          "base_uri": "https://localhost:8080/"
        }
      },
      "execution_count": 31,
      "outputs": [
        {
          "output_type": "stream",
          "name": "stdout",
          "text": [
            "    do  and             true    false \n",
            "new_str = false \n",
            "new_str = false true \n",
            "new_str = false true and \n",
            "new_str = false true and do \n",
            "false true and do\n"
          ]
        }
      ]
    },
    {
      "cell_type": "code",
      "source": [
        "print(1)"
      ],
      "metadata": {
        "id": "ogAoa7147Bf1",
        "outputId": "ed39bb1d-7424-4cdf-ed2d-6eee5e3402a4",
        "colab": {
          "base_uri": "https://localhost:8080/"
        }
      },
      "execution_count": 14,
      "outputs": [
        {
          "output_type": "stream",
          "name": "stdout",
          "text": [
            "1\n"
          ]
        }
      ]
    },
    {
      "cell_type": "code",
      "source": [
        "'''\n",
        "2.2 Сумма всех чисел до N\n",
        "Вам дано число N. Напишите скрипт, который считал бы сумму\n",
        "всех четных чисел в промежутке от 1 до N, включая N.\n",
        "К примеру, если N равняется 6, то вывод должен быть равен 2+4+6, то есть 12.\n",
        "'''"
      ],
      "metadata": {
        "id": "XNjrb8_Ewq4t"
      },
      "execution_count": null,
      "outputs": []
    },
    {
      "cell_type": "code",
      "source": [
        "'''\n",
        "2.3 Палиндромы из чисел\n",
        "У вас есть список из целых чисел.\n",
        "Вам нужно написать скрипт, который определит, является ли последовательность чисел палиндромом.\n",
        "Если это палиндром, нужно вернуть true, а если нет — вернуть false.\n",
        "'''"
      ],
      "metadata": {
        "id": "Yr3Xia4Uwy9S"
      },
      "execution_count": null,
      "outputs": []
    },
    {
      "cell_type": "code",
      "source": [
        "'''\n",
        "2.4 Заменить пробелы\n",
        "У вас есть строка STR, в которой есть слова с пробелами. Вам нужно заменить пробелы между словами на “@40”.\n",
        "'''"
      ],
      "metadata": {
        "id": "YcnNQmwFw5PI"
      },
      "execution_count": null,
      "outputs": []
    },
    {
      "cell_type": "code",
      "source": [
        "'''\n",
        "2.5 Уровни двоичного дерева\n",
        "Вам дано двоичное дерево, в котором находятся целые числа. Ваш скрипт должен вывести последовательность чисел,\n",
        "которая бы показывала, как он проходил по двоичному дереву.\n",
        "\n",
        "При этом количество попыток не должно превышать 100, количество ветвей дерева не должно быть меньше нуля и\n",
        "не должно превышать 1000, а числа дерева не должны быть отрицательными.\n",
        "'''"
      ],
      "metadata": {
        "id": "3xOLOPR2w99B"
      },
      "execution_count": null,
      "outputs": []
    },
    {
      "cell_type": "markdown",
      "source": [
        "# Ссылки\n",
        "\n",
        "1. [Репозиторий с подобной тематикой](https://github.com/markdrrr/interview_questions_python_junior/blob/main/README.md)"
      ],
      "metadata": {
        "id": "x2b631xj_xmG"
      }
    }
  ]
}