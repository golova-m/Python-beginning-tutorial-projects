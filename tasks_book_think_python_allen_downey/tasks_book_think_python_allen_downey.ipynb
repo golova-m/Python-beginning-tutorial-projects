{
  "nbformat": 4,
  "nbformat_minor": 0,
  "metadata": {
    "colab": {
      "provenance": [],
      "authorship_tag": "ABX9TyNHD//akVJuAyCwCO7GhJon",
      "include_colab_link": true
    },
    "kernelspec": {
      "name": "python3",
      "display_name": "Python 3"
    },
    "language_info": {
      "name": "python"
    }
  },
  "cells": [
    {
      "cell_type": "markdown",
      "metadata": {
        "id": "view-in-github",
        "colab_type": "text"
      },
      "source": [
        "<a href=\"https://colab.research.google.com/github/golova-m/Python-beginning-tutorial-projects/blob/main/tasks_book_think_python_allen_downey.ipynb\" target=\"_parent\"><img src=\"https://colab.research.google.com/assets/colab-badge.svg\" alt=\"Open In Colab\"/></a>"
      ]
    },
    {
      "cell_type": "markdown",
      "source": [
        "# Содержание\n",
        "Данный документ содержит в себе решение задач из книги Аллена Б. Дауни \"Основы Python. Научитесь думать как программист.\""
      ],
      "metadata": {
        "id": "_In504QxtdlM"
      }
    },
    {
      "cell_type": "markdown",
      "source": [
        "# Глава 2. Знакомство с Python"
      ],
      "metadata": {
        "id": "dD8XsHOTXI6B"
      }
    },
    {
      "cell_type": "markdown",
      "source": [
        "## Упражнение 2.1\n",
        "Осознанные ошибки. Пробуем \"играть\" с возможностями Python."
      ],
      "metadata": {
        "id": "ZyliEFE2T7SE"
      }
    },
    {
      "cell_type": "code",
      "execution_count": null,
      "metadata": {
        "id": "TqRR5BvtTvr9"
      },
      "outputs": [],
      "source": [
        "n = 1"
      ]
    },
    {
      "cell_type": "code",
      "source": [
        "1 = n"
      ],
      "metadata": {
        "colab": {
          "base_uri": "https://localhost:8080/",
          "height": 106
        },
        "id": "_c1qYYQMUcbA",
        "outputId": "e3dd5bd7-9daf-45c5-fa80-fb2d261bcb7b"
      },
      "execution_count": null,
      "outputs": [
        {
          "output_type": "error",
          "ename": "SyntaxError",
          "evalue": "cannot assign to literal here. Maybe you meant '==' instead of '='? (<ipython-input-2-400f3240b0e1>, line 1)",
          "traceback": [
            "\u001b[0;36m  File \u001b[0;32m\"<ipython-input-2-400f3240b0e1>\"\u001b[0;36m, line \u001b[0;32m1\u001b[0m\n\u001b[0;31m    1 = n\u001b[0m\n\u001b[0m    ^\u001b[0m\n\u001b[0;31mSyntaxError\u001b[0m\u001b[0;31m:\u001b[0m cannot assign to literal here. Maybe you meant '==' instead of '='?\n"
          ]
        }
      ]
    },
    {
      "cell_type": "code",
      "source": [
        "1 == n"
      ],
      "metadata": {
        "colab": {
          "base_uri": "https://localhost:8080/"
        },
        "id": "5KES7sj0UfsT",
        "outputId": "a61568e6-a9e5-4f3e-eb59-3f9e635d30c2"
      },
      "execution_count": null,
      "outputs": [
        {
          "output_type": "execute_result",
          "data": {
            "text/plain": [
              "True"
            ]
          },
          "metadata": {},
          "execution_count": 3
        }
      ]
    },
    {
      "cell_type": "code",
      "source": [
        "n = m = 2"
      ],
      "metadata": {
        "id": "WiZ06O6bUh3j"
      },
      "execution_count": null,
      "outputs": []
    },
    {
      "cell_type": "code",
      "source": [
        "n, m"
      ],
      "metadata": {
        "colab": {
          "base_uri": "https://localhost:8080/"
        },
        "id": "8Q2m-g3WUmQa",
        "outputId": "98686931-43e8-4feb-b35a-61814afcd27c"
      },
      "execution_count": null,
      "outputs": [
        {
          "output_type": "execute_result",
          "data": {
            "text/plain": [
              "(2, 2)"
            ]
          },
          "metadata": {},
          "execution_count": 5
        }
      ]
    },
    {
      "cell_type": "code",
      "source": [
        "m = 3"
      ],
      "metadata": {
        "id": "1ofJDaaUUpQg"
      },
      "execution_count": null,
      "outputs": []
    },
    {
      "cell_type": "code",
      "source": [
        "n, m"
      ],
      "metadata": {
        "colab": {
          "base_uri": "https://localhost:8080/"
        },
        "id": "iB2zwqEdUtKs",
        "outputId": "82434668-f540-4428-db1a-b6fb87c66409"
      },
      "execution_count": null,
      "outputs": [
        {
          "output_type": "execute_result",
          "data": {
            "text/plain": [
              "(2, 3)"
            ]
          },
          "metadata": {},
          "execution_count": 7
        }
      ]
    },
    {
      "cell_type": "code",
      "source": [],
      "metadata": {
        "id": "B5uujH8oVGKW"
      },
      "execution_count": null,
      "outputs": []
    },
    {
      "cell_type": "code",
      "source": [
        "n;"
      ],
      "metadata": {
        "id": "5rUhXVkYVJG7"
      },
      "execution_count": null,
      "outputs": []
    },
    {
      "cell_type": "code",
      "source": [
        "n = 2;\n",
        "n"
      ],
      "metadata": {
        "colab": {
          "base_uri": "https://localhost:8080/"
        },
        "id": "VLk7H0ZZVLp7",
        "outputId": "f9537da5-daff-4621-9cc2-563572c6cc38"
      },
      "execution_count": null,
      "outputs": [
        {
          "output_type": "execute_result",
          "data": {
            "text/plain": [
              "2"
            ]
          },
          "metadata": {},
          "execution_count": 9
        }
      ]
    },
    {
      "cell_type": "code",
      "source": [
        "n = \\\n",
        "4\n",
        "n"
      ],
      "metadata": {
        "colab": {
          "base_uri": "https://localhost:8080/"
        },
        "id": "bY1mDsUKVyQ5",
        "outputId": "987d53b9-c4e7-420a-fa07-ff0b151ba2d3"
      },
      "execution_count": null,
      "outputs": [
        {
          "output_type": "execute_result",
          "data": {
            "text/plain": [
              "4"
            ]
          },
          "metadata": {},
          "execution_count": 11
        }
      ]
    },
    {
      "cell_type": "code",
      "source": [
        "print('hi');;"
      ],
      "metadata": {
        "colab": {
          "base_uri": "https://localhost:8080/",
          "height": 106
        },
        "id": "sVN5voiLWsqV",
        "outputId": "af8b15c2-93b0-4df9-cc9c-b7f2a1e2c7e0"
      },
      "execution_count": null,
      "outputs": [
        {
          "output_type": "error",
          "ename": "SyntaxError",
          "evalue": "invalid syntax (<ipython-input-13-1f759274d28c>, line 1)",
          "traceback": [
            "\u001b[0;36m  File \u001b[0;32m\"<ipython-input-13-1f759274d28c>\"\u001b[0;36m, line \u001b[0;32m1\u001b[0m\n\u001b[0;31m    print('hi');;\u001b[0m\n\u001b[0m                ^\u001b[0m\n\u001b[0;31mSyntaxError\u001b[0m\u001b[0;31m:\u001b[0m invalid syntax\n"
          ]
        }
      ]
    },
    {
      "cell_type": "code",
      "source": [
        "print('hi')."
      ],
      "metadata": {
        "colab": {
          "base_uri": "https://localhost:8080/",
          "height": 106
        },
        "id": "Hhlizq9JWyx1",
        "outputId": "b6d25a14-5f2d-4793-a539-de322d5fe814"
      },
      "execution_count": null,
      "outputs": [
        {
          "output_type": "error",
          "ename": "SyntaxError",
          "evalue": "invalid syntax (<ipython-input-14-3854160b3852>, line 1)",
          "traceback": [
            "\u001b[0;36m  File \u001b[0;32m\"<ipython-input-14-3854160b3852>\"\u001b[0;36m, line \u001b[0;32m1\u001b[0m\n\u001b[0;31m    print('hi').\u001b[0m\n\u001b[0m                ^\u001b[0m\n\u001b[0;31mSyntaxError\u001b[0m\u001b[0;31m:\u001b[0m invalid syntax\n"
          ]
        }
      ]
    },
    {
      "cell_type": "code",
      "source": [
        "nm"
      ],
      "metadata": {
        "colab": {
          "base_uri": "https://localhost:8080/",
          "height": 141
        },
        "id": "wLHmNet3W1yY",
        "outputId": "4f36e1bc-4dd1-4682-c240-a95b5b5ea173"
      },
      "execution_count": null,
      "outputs": [
        {
          "output_type": "error",
          "ename": "NameError",
          "evalue": "name 'nm' is not defined",
          "traceback": [
            "\u001b[0;31m---------------------------------------------------------------------------\u001b[0m",
            "\u001b[0;31mNameError\u001b[0m                                 Traceback (most recent call last)",
            "\u001b[0;32m<ipython-input-15-27ef322b4080>\u001b[0m in \u001b[0;36m<cell line: 1>\u001b[0;34m()\u001b[0m\n\u001b[0;32m----> 1\u001b[0;31m \u001b[0mnm\u001b[0m\u001b[0;34m\u001b[0m\u001b[0;34m\u001b[0m\u001b[0m\n\u001b[0m",
            "\u001b[0;31mNameError\u001b[0m: name 'nm' is not defined"
          ]
        }
      ]
    },
    {
      "cell_type": "code",
      "source": [
        "n*m"
      ],
      "metadata": {
        "colab": {
          "base_uri": "https://localhost:8080/"
        },
        "id": "dcR6KHFkW3mU",
        "outputId": "125d5c1e-59c0-45e7-aedd-25312bc0b3db"
      },
      "execution_count": null,
      "outputs": [
        {
          "output_type": "execute_result",
          "data": {
            "text/plain": [
              "12"
            ]
          },
          "metadata": {},
          "execution_count": 16
        }
      ]
    },
    {
      "cell_type": "markdown",
      "source": [
        "## Упражнение 2.2\n",
        "Используем интерпретатор в качестве калькулятора"
      ],
      "metadata": {
        "id": "5VPeGsZtW8MK"
      }
    },
    {
      "cell_type": "code",
      "source": [
        "import math\n",
        "(4/3)*math.pi*(5)**3\n"
      ],
      "metadata": {
        "colab": {
          "base_uri": "https://localhost:8080/"
        },
        "id": "s46dGF8QXGJ1",
        "outputId": "f0e84ad0-74db-4be3-d41e-581377da0791"
      },
      "execution_count": null,
      "outputs": [
        {
          "output_type": "execute_result",
          "data": {
            "text/plain": [
              "523.5987755982989"
            ]
          },
          "metadata": {},
          "execution_count": 17
        }
      ]
    },
    {
      "cell_type": "code",
      "source": [
        "5**3"
      ],
      "metadata": {
        "colab": {
          "base_uri": "https://localhost:8080/"
        },
        "id": "gMZ2gPGzXmcW",
        "outputId": "34e3be67-5c2e-4a83-faa0-e1f4d5005351"
      },
      "execution_count": null,
      "outputs": [
        {
          "output_type": "execute_result",
          "data": {
            "text/plain": [
              "125"
            ]
          },
          "metadata": {},
          "execution_count": 18
        }
      ]
    },
    {
      "cell_type": "code",
      "source": [
        "5**2"
      ],
      "metadata": {
        "colab": {
          "base_uri": "https://localhost:8080/"
        },
        "id": "MVefbgqoXo6m",
        "outputId": "d51cdea2-d7e7-4a33-f261-6ee0da3d28b8"
      },
      "execution_count": null,
      "outputs": [
        {
          "output_type": "execute_result",
          "data": {
            "text/plain": [
              "25"
            ]
          },
          "metadata": {},
          "execution_count": 19
        }
      ]
    },
    {
      "cell_type": "code",
      "source": [
        "(249.50 * 40) / 100"
      ],
      "metadata": {
        "colab": {
          "base_uri": "https://localhost:8080/"
        },
        "id": "oRCZXj3RX6UI",
        "outputId": "b830d1d7-10d4-42cc-9a72-d08b22e57482"
      },
      "execution_count": null,
      "outputs": [
        {
          "output_type": "execute_result",
          "data": {
            "text/plain": [
              "99.8"
            ]
          },
          "metadata": {},
          "execution_count": 21
        }
      ]
    },
    {
      "cell_type": "code",
      "source": [
        "249.50 - 99.8"
      ],
      "metadata": {
        "colab": {
          "base_uri": "https://localhost:8080/"
        },
        "id": "a7-9hB02YTc4",
        "outputId": "45ac5f6f-0bbb-453f-c62c-200b28375bd5"
      },
      "execution_count": null,
      "outputs": [
        {
          "output_type": "execute_result",
          "data": {
            "text/plain": [
              "149.7"
            ]
          },
          "metadata": {},
          "execution_count": 22
        }
      ]
    },
    {
      "cell_type": "code",
      "source": [
        "149.7 * 60"
      ],
      "metadata": {
        "colab": {
          "base_uri": "https://localhost:8080/"
        },
        "id": "yZjTdfZlYZh9",
        "outputId": "bc39a6de-d5bf-4dd0-e573-d43cbd256439"
      },
      "execution_count": null,
      "outputs": [
        {
          "output_type": "execute_result",
          "data": {
            "text/plain": [
              "8982.0"
            ]
          },
          "metadata": {},
          "execution_count": 23
        }
      ]
    },
    {
      "cell_type": "code",
      "source": [
        "100 + (59 * 49.50)"
      ],
      "metadata": {
        "colab": {
          "base_uri": "https://localhost:8080/"
        },
        "id": "wZyGur0dYbIe",
        "outputId": "8187f4cf-a544-4c4b-fa75-e0fa0c217f2d"
      },
      "execution_count": null,
      "outputs": [
        {
          "output_type": "execute_result",
          "data": {
            "text/plain": [
              "3020.5"
            ]
          },
          "metadata": {},
          "execution_count": 24
        }
      ]
    },
    {
      "cell_type": "code",
      "source": [
        "8982.0 + 3020.5"
      ],
      "metadata": {
        "colab": {
          "base_uri": "https://localhost:8080/"
        },
        "id": "iktWX6ePYivk",
        "outputId": "60af961b-c47b-4830-ab7a-152336898eed"
      },
      "execution_count": null,
      "outputs": [
        {
          "output_type": "execute_result",
          "data": {
            "text/plain": [
              "12002.5"
            ]
          },
          "metadata": {},
          "execution_count": 25
        }
      ]
    },
    {
      "cell_type": "code",
      "source": [
        "8 + (7 * 3) + 8"
      ],
      "metadata": {
        "colab": {
          "base_uri": "https://localhost:8080/"
        },
        "id": "_KMdpbH2aJsw",
        "outputId": "7f112a64-e24f-4de6-eab4-dacdef3b703b"
      },
      "execution_count": null,
      "outputs": [
        {
          "output_type": "execute_result",
          "data": {
            "text/plain": [
              "37"
            ]
          },
          "metadata": {},
          "execution_count": 29
        }
      ]
    },
    {
      "cell_type": "code",
      "source": [
        "15 + (12 + 3) + 15"
      ],
      "metadata": {
        "colab": {
          "base_uri": "https://localhost:8080/"
        },
        "id": "Bxue7br7aw7A",
        "outputId": "ef99ca5d-a4eb-4d2d-c86e-e07be8dd288c"
      },
      "execution_count": null,
      "outputs": [
        {
          "output_type": "execute_result",
          "data": {
            "text/plain": [
              "45"
            ]
          },
          "metadata": {},
          "execution_count": 30
        }
      ]
    },
    {
      "cell_type": "code",
      "source": [
        "52 + 37"
      ],
      "metadata": {
        "colab": {
          "base_uri": "https://localhost:8080/"
        },
        "id": "RTVCH9_Qa8YB",
        "outputId": "cfc2c6fc-7eb8-468b-8fa6-6ff0ae10a777"
      },
      "execution_count": null,
      "outputs": [
        {
          "output_type": "execute_result",
          "data": {
            "text/plain": [
              "89"
            ]
          },
          "metadata": {},
          "execution_count": 31
        }
      ]
    },
    {
      "cell_type": "code",
      "source": [
        "89 - 60"
      ],
      "metadata": {
        "colab": {
          "base_uri": "https://localhost:8080/"
        },
        "id": "E1zvREOEbAjX",
        "outputId": "a4f719ed-e020-421b-97d5-984c3cd70fce"
      },
      "execution_count": null,
      "outputs": [
        {
          "output_type": "execute_result",
          "data": {
            "text/plain": [
              "29"
            ]
          },
          "metadata": {},
          "execution_count": 33
        }
      ]
    },
    {
      "cell_type": "code",
      "source": [
        "6 + 1"
      ],
      "metadata": {
        "colab": {
          "base_uri": "https://localhost:8080/"
        },
        "id": "SupJup7vbEiH",
        "outputId": "ac33aea7-83b5-4b77-90ea-6c60afd86fe0"
      },
      "execution_count": null,
      "outputs": [
        {
          "output_type": "execute_result",
          "data": {
            "text/plain": [
              "7"
            ]
          },
          "metadata": {},
          "execution_count": 34
        }
      ]
    },
    {
      "cell_type": "code",
      "source": [
        "#7:29:45"
      ],
      "metadata": {
        "id": "PRt6_wXPbJVZ"
      },
      "execution_count": null,
      "outputs": []
    },
    {
      "cell_type": "markdown",
      "source": [
        "# Глава 3. Функции"
      ],
      "metadata": {
        "id": "vhykvJRNbv9-"
      }
    },
    {
      "cell_type": "markdown",
      "source": [
        "## Упражнение 3.1\n",
        "Напишите функцию, которая принимает строку и печатает строку с пробелами в начале, так чтобы последняя буква строки находилась в столбце 70."
      ],
      "metadata": {
        "id": "19iNDwjRb5yh"
      }
    },
    {
      "cell_type": "code",
      "source": [
        "def right_justify(instr):\n",
        "  print(' ' * (70 - len(instr)) + instr)\n",
        "  return(' ' * (70 - len(instr)) + instr)"
      ],
      "metadata": {
        "id": "y3CYhymccarS"
      },
      "execution_count": null,
      "outputs": []
    },
    {
      "cell_type": "code",
      "source": [
        "assert right_justify('a') == '                                                                     a'\n",
        "assert right_justify('aa') == '                                                                    aa'\n",
        "assert right_justify('') == '                                                                      '\n",
        "assert right_justify('aaaaaaaaaaaaaaaaaaaaaaaaaaaaaaaaaaaaaaaaaaaaaaaaaaaaaaaaaaaaaaaaaaaaaa') == 'aaaaaaaaaaaaaaaaaaaaaaaaaaaaaaaaaaaaaaaaaaaaaaaaaaaaaaaaaaaaaaaaaaaaaa'"
      ],
      "metadata": {
        "colab": {
          "base_uri": "https://localhost:8080/"
        },
        "id": "s4ziouR1cvYR",
        "outputId": "730fe260-668f-4628-cac3-db21158a5e32"
      },
      "execution_count": null,
      "outputs": [
        {
          "output_type": "stream",
          "name": "stdout",
          "text": [
            "                                                                     a\n",
            "                                                                    aa\n",
            "                                                                      \n",
            "aaaaaaaaaaaaaaaaaaaaaaaaaaaaaaaaaaaaaaaaaaaaaaaaaaaaaaaaaaaaaaaaaaaaaa\n"
          ]
        }
      ]
    },
    {
      "cell_type": "markdown",
      "source": [
        "## Упражнение 3.2\n",
        "Работа с функцией и объектом функции"
      ],
      "metadata": {
        "id": "QnmN_CDecAGP"
      }
    },
    {
      "cell_type": "code",
      "source": [
        "def do_twice(f):\n",
        "  f()\n",
        "  f()\n",
        "\n",
        "\n",
        "def print_spam():\n",
        "  print('Spam')\n",
        "\n"
      ],
      "metadata": {
        "id": "DOkfmemaup_b"
      },
      "execution_count": null,
      "outputs": []
    },
    {
      "cell_type": "code",
      "source": [
        "do_twice(print_spam)"
      ],
      "metadata": {
        "colab": {
          "base_uri": "https://localhost:8080/"
        },
        "id": "kA2V2Kfcu68f",
        "outputId": "17d8b864-1eea-4f48-b007-6eb688be9fc4"
      },
      "execution_count": null,
      "outputs": [
        {
          "output_type": "stream",
          "name": "stdout",
          "text": [
            "Spam\n",
            "Spam\n"
          ]
        }
      ]
    },
    {
      "cell_type": "code",
      "source": [
        "def do_twice2(f, arg):\n",
        "  f(arg)\n",
        "  f(arg)\n",
        "\n",
        "\n",
        "def print_spam2(arg):\n",
        "  print(arg)\n",
        "\n",
        "def print_twice(bruce):\n",
        "  print(bruce)\n",
        "  print(bruce)"
      ],
      "metadata": {
        "id": "9lV5eVGKvDzj"
      },
      "execution_count": null,
      "outputs": []
    },
    {
      "cell_type": "code",
      "source": [
        "do_twice2(print_spam2, 'Hi')"
      ],
      "metadata": {
        "colab": {
          "base_uri": "https://localhost:8080/"
        },
        "id": "3OdnLl3OvMUB",
        "outputId": "399bb678-9642-4499-c4e4-7801d38ea19b"
      },
      "execution_count": null,
      "outputs": [
        {
          "output_type": "stream",
          "name": "stdout",
          "text": [
            "Hi\n",
            "Hi\n"
          ]
        }
      ]
    },
    {
      "cell_type": "code",
      "source": [
        "do_twice2(print_twice, 'spam')"
      ],
      "metadata": {
        "colab": {
          "base_uri": "https://localhost:8080/"
        },
        "id": "BrACzwHhwihg",
        "outputId": "d16435be-31bd-477f-dc4d-adc9eae66b81"
      },
      "execution_count": null,
      "outputs": [
        {
          "output_type": "stream",
          "name": "stdout",
          "text": [
            "spam\n",
            "spam\n",
            "spam\n",
            "spam\n"
          ]
        }
      ]
    },
    {
      "cell_type": "code",
      "source": [
        "def do_four(f, arg):\n",
        "  do_twice2(f, arg)\n",
        "  do_twice2(f, arg)"
      ],
      "metadata": {
        "id": "D09fb49Ow13m"
      },
      "execution_count": null,
      "outputs": []
    },
    {
      "cell_type": "code",
      "source": [
        "do_four(print_spam2, 'Hi')"
      ],
      "metadata": {
        "colab": {
          "base_uri": "https://localhost:8080/"
        },
        "id": "BSR3RBsUxFcU",
        "outputId": "f11127f2-f6f6-4b9c-e480-bedc9c460e95"
      },
      "execution_count": null,
      "outputs": [
        {
          "output_type": "stream",
          "name": "stdout",
          "text": [
            "Hi\n",
            "Hi\n",
            "Hi\n",
            "Hi\n"
          ]
        }
      ]
    },
    {
      "cell_type": "markdown",
      "source": [
        "## Упражнение 3.3\n",
        "Необходимо нарисовать сетку."
      ],
      "metadata": {
        "id": "z3xkMzNNcB1q"
      }
    },
    {
      "cell_type": "code",
      "source": [
        "def do_step(f, step):\n",
        "  for i in range(step):\n",
        "    f()\n",
        "\n",
        "\n",
        "def print_line():\n",
        "  print('+', ' -' * 4, end = ' ')\n",
        "\n",
        "\n",
        "def print_column():\n",
        "  print('|', '  ' * 4, end = ' ')\n",
        "\n",
        "\n",
        "def print_sq(step):\n",
        "  for i in range(step):\n",
        "    do_step(print_line, 2)\n",
        "    print('+')\n",
        "    for i in range(4):\n",
        "      do_step(print_column, 2)\n",
        "      print('|')\n",
        "\n",
        "\n",
        "print_sq(2)\n",
        "do_step(print_line, 2)\n",
        "print('+')"
      ],
      "metadata": {
        "colab": {
          "base_uri": "https://localhost:8080/"
        },
        "id": "xDf0oYvIzYu6",
        "outputId": "c4d1b66c-0126-4d89-a3b4-3aa339369848"
      },
      "execution_count": null,
      "outputs": [
        {
          "output_type": "stream",
          "name": "stdout",
          "text": [
            "+  - - - - +  - - - - +\n",
            "|          |          |\n",
            "|          |          |\n",
            "|          |          |\n",
            "|          |          |\n",
            "+  - - - - +  - - - - +\n",
            "|          |          |\n",
            "|          |          |\n",
            "|          |          |\n",
            "|          |          |\n",
            "+  - - - - +  - - - - +\n"
          ]
        }
      ]
    },
    {
      "cell_type": "code",
      "source": [
        "def do_step(f, step):\n",
        "  for i in range(step):\n",
        "    f()\n",
        "\n",
        "\n",
        "def print_line():\n",
        "  print('+', ' -' * 4, end = ' ')\n",
        "\n",
        "\n",
        "def print_column():\n",
        "  print('|', '  ' * 4, end = ' ')\n",
        "\n",
        "\n",
        "def print_sq(step):\n",
        "  for i in range(step):\n",
        "    do_step(print_line, 4)\n",
        "    print('+')\n",
        "    for i in range(4):\n",
        "      do_step(print_column, 4)\n",
        "      print('|')\n",
        "\n",
        "\n",
        "print_sq(4)\n",
        "do_step(print_line, 4)\n",
        "print('+')"
      ],
      "metadata": {
        "colab": {
          "base_uri": "https://localhost:8080/"
        },
        "id": "YrVy5CYL1D6_",
        "outputId": "e77b484c-73c6-4894-c8bb-b57d8bb7ae41"
      },
      "execution_count": null,
      "outputs": [
        {
          "output_type": "stream",
          "name": "stdout",
          "text": [
            "+  - - - - +  - - - - +  - - - - +  - - - - +\n",
            "|          |          |          |          |\n",
            "|          |          |          |          |\n",
            "|          |          |          |          |\n",
            "|          |          |          |          |\n",
            "+  - - - - +  - - - - +  - - - - +  - - - - +\n",
            "|          |          |          |          |\n",
            "|          |          |          |          |\n",
            "|          |          |          |          |\n",
            "|          |          |          |          |\n",
            "+  - - - - +  - - - - +  - - - - +  - - - - +\n",
            "|          |          |          |          |\n",
            "|          |          |          |          |\n",
            "|          |          |          |          |\n",
            "|          |          |          |          |\n",
            "+  - - - - +  - - - - +  - - - - +  - - - - +\n",
            "|          |          |          |          |\n",
            "|          |          |          |          |\n",
            "|          |          |          |          |\n",
            "|          |          |          |          |\n",
            "+  - - - - +  - - - - +  - - - - +  - - - - +\n"
          ]
        }
      ]
    },
    {
      "cell_type": "markdown",
      "source": [
        "# Глава 4. Turtle"
      ],
      "metadata": {
        "id": "hIs6KG08HscN"
      }
    },
    {
      "cell_type": "code",
      "source": [
        "import math\n",
        "\n",
        "import turtle\n",
        "\n",
        "\n",
        "def square(t, lenght):\n",
        "    for i in range(4):\n",
        "        t.fd(lenght)\n",
        "        t.lt(90)\n",
        "\n",
        "def polygon(t, lenght, n):\n",
        "    angle = 360.0 / n\n",
        "    polyline(t, n, lenght, angle)\n",
        "\n",
        "\n",
        "def circle(t, r):\n",
        "    arc(t, r, 360)\n",
        "\n",
        "\n",
        "def arc(t, r, angle):\n",
        "    arc_length = 2 * math.pi * r * angle / 360\n",
        "    n = int(arc_length / 3) + 1\n",
        "    step_lenght = arc_length / n\n",
        "    step_angle = float(angle) / n\n",
        "    polyline(t, n, step_lenght, step_angle)\n",
        "\n",
        "\n",
        "def polyline(t, n, lenght, angle):\n",
        "    for i in range(n):\n",
        "        t.fd(lenght)\n",
        "        t.lt(angle)\n",
        "\n",
        "\n",
        "def main():\n",
        "    bob = turtle.Turtle()\n",
        "    for i in range(4):\n",
        "        square(bob, 100)\n",
        "        #polygon(bob, 100, 5)\n",
        "        circle(bob, 50)\n",
        "        arc(bob, 100, 90)\n",
        "\n",
        "    turtle.mainloop()"
      ],
      "metadata": {
        "id": "-Hk705zvLWSv"
      },
      "execution_count": null,
      "outputs": []
    },
    {
      "cell_type": "markdown",
      "source": [
        "![image.png](data:image/png;base64,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)"
      ],
      "metadata": {
        "id": "rcnNA0AML9El"
      }
    },
    {
      "cell_type": "code",
      "source": [],
      "metadata": {
        "id": "sVhUvOjOL3MQ"
      },
      "execution_count": null,
      "outputs": []
    }
  ]
}